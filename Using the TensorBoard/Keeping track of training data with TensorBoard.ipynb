{
 "cells": [
  {
   "cell_type": "code",
   "execution_count": 2,
   "id": "fd0daa53",
   "metadata": {},
   "outputs": [],
   "source": [
    "import tensorflow as tf\n",
    "import tensorflow_datasets as tfds\n",
    "import math\n",
    "\n",
    "import tqdm\n",
    "import datetime"
   ]
  },
  {
   "cell_type": "markdown",
   "id": "7f2f2dc2",
   "metadata": {},
   "source": [
    "# Using TensorBoard to track metrics, images, audio and text\n",
    "\n",
    "In this notebook I will show how to use the TensorBoard extension which allows to keep track of training runs and data associated with each epoch (e.g. loss, accuracies, predicted/generated outputs, activation statistics etc.)\n",
    "\n",
    "First we will look at tensorflow's summary writer and what it can be used for before we use it in the training loop to keep track of the metrics.\n",
    "\n",
    "The summary writer can be used to log scalars, feature maps (e.g. batches of generated images or activations), histograms, audio (batches of 1D sequences), and text.\n",
    "\n",
    "\n",
    "After having taken a look at these, we will take a look at how this can be used to track the metrics (loss, accuracy etc.) of a subclassed model. For this we will implement the train and test step as internal methods of the model and have the loss, optimizer and metrics as attributes of the model."
   ]
  },
  {
   "cell_type": "markdown",
   "id": "5b53f7ab",
   "metadata": {},
   "source": [
    "Here we iterate over 100 steps and try to store a loss, some randomly generated images, an audio tensor, text, and a histogram for each step. We do not yet use a deep learning model, we just show how to store different kinds of data with TensorBoard."
   ]
  },
  {
   "cell_type": "code",
   "execution_count": 3,
   "id": "7a1b8899",
   "metadata": {},
   "outputs": [],
   "source": [
    "# load tensorboard extension\n",
    "%load_ext tensorboard\n",
    "\n",
    "# define file-path for log file\n",
    "file_path = \"test_logs/test\"\n",
    "\n",
    "# define the tf file-writer (we usually use a separate one for train and validation)\n",
    "summary_writer = tf.summary.create_file_writer(file_path)\n",
    "\n",
    "loss_function = tf.keras.losses.MeanSquaredError()\n",
    "\n",
    "# write 100 logs for loss\n",
    "\n",
    "\n",
    "for i in range(100):\n",
    "    \n",
    "    # compute loss (here targets and predictions would come from the data and the model)\n",
    "    targets = tf.constant([0.3,0.3,-0.8])\n",
    "    predictions = targets + tf.random.normal(shape=targets.shape, stddev=100/(i+1)) # decreasing noise\n",
    "    \n",
    "    loss = loss_function(targets,predictions)\n",
    "    \n",
    "    # image batch (these would be obtained from the model)\n",
    "    \n",
    "    image_batch = tf.random.uniform(shape=(32,28,28,1),dtype=tf.float32)\n",
    "    \n",
    "    \n",
    "    # audio batch (would be obtained from the model but here it's just a hard coded sine wave of 110hz)\n",
    "    \n",
    "    x = 2* math.pi*tf.cast(tf.linspace(0,32000*5, 32000*5), tf.float32)*110/32000\n",
    "    x = tf.expand_dims(x, axis=0) # add batch dimension\n",
    "    x = tf.expand_dims(x, axis=-1) # add last dimension\n",
    "    x = tf.repeat(x, 32, axis=0) # repeat to have a batch of 32\n",
    "    audio_batch = tf.math.sin(x) # obtain sine wave\n",
    "    \n",
    "    \n",
    "    # text (this would be the output of a language model after one training epoch)\n",
    "    \n",
    "    text = tf.constant(\"This is the sampled output of a language model\")\n",
    "    \n",
    "    \n",
    "    # histogram (e.g. of activations of a dense layer during training)\n",
    "    \n",
    "    activations_batch = tf.random.normal(shape=(32,20,1))\n",
    "    min_activations = tf.reduce_min(activations_batch, axis=None)\n",
    "    max_activations = tf.reduce_max(activations_batch, axis=None)\n",
    "    histogram = tf.histogram_fixed_width_bins(activations_batch, \n",
    "                                              value_range=[min_activations, max_activations])\n",
    "    \n",
    "    \n",
    "    # now we want to write all the data to a log-file.\n",
    "    with summary_writer.as_default():\n",
    "        \n",
    "        # save the loss scalar for the \"epoch\"\n",
    "        tf.summary.scalar(name=\"loss\", data=loss, step=i)\n",
    "        \n",
    "        # save a batch of images for this epoch (have to be between 0 and 1)\n",
    "        tf.summary.image(name=\"generated_images\",data = image_batch, step=i, max_outputs=32)\n",
    "        \n",
    "        # save the batch of audio for this epoch\n",
    "        tf.summary.audio(name=\"generated_audio\", data = audio_batch, \n",
    "                         sample_rate = 32000, step=i, max_outputs=32)\n",
    "        \n",
    "        # save the generated text for that epoch\n",
    "        tf.summary.text(name=\"generated_text\", data = text, step=i)\n",
    "        \n",
    "        # save a histogram (e.g. of activations in a layer)\n",
    "        tf.summary.histogram(name=\"layer_N_activations\", data = histogram, step=i)"
   ]
  },
  {
   "cell_type": "markdown",
   "id": "49e422c5",
   "metadata": {},
   "source": [
    "# Inspect the logged data in the TensorBoard\n",
    "\n",
    "We can look at the images, audio, text, histograms and plots for each time-step. \n",
    "\n",
    "For plots under the \"scalars\" section, we can control the amount of smoothing for the plots. This allows us to visually judge whether the loss is decreasing even in the presence of strong oscillations."
   ]
  },
  {
   "cell_type": "code",
   "execution_count": 4,
   "id": "8568d249",
   "metadata": {
    "scrolled": false
   },
   "outputs": [
    {
     "data": {
      "text/html": [
       "\n",
       "      <iframe id=\"tensorboard-frame-9749279435a2622b\" width=\"100%\" height=\"800\" frameborder=\"0\">\n",
       "      </iframe>\n",
       "      <script>\n",
       "        (function() {\n",
       "          const frame = document.getElementById(\"tensorboard-frame-9749279435a2622b\");\n",
       "          const url = new URL(\"/\", window.location);\n",
       "          const port = 6006;\n",
       "          if (port) {\n",
       "            url.port = port;\n",
       "          }\n",
       "          frame.src = url;\n",
       "        })();\n",
       "      </script>\n",
       "    "
      ],
      "text/plain": [
       "<IPython.core.display.HTML object>"
      ]
     },
     "metadata": {},
     "output_type": "display_data"
    }
   ],
   "source": [
    "# open the tensorboard to inspect the data for the 100 steps\n",
    "%tensorboard --logdir test_logs/"
   ]
  },
  {
   "cell_type": "markdown",
   "id": "0752cc5c",
   "metadata": {},
   "source": [
    "# Using TensorBoard to store loss and accuracy of a subclassed model\n",
    "\n",
    "In this part of the notebook, we will define a subclassed CNN model and store loss and accuracy for both training and validation data to the TensorBoard. \n",
    "\n",
    "To do this in a clean way, we implement the keras metrics that keep track of loss and accuracy in each epoch for us as part of the model. We also define the train and test steps as methods inside the model rather than as external functions. Doing so will move us one step closer to being able to use the in-built training and evaluation methods that come with Tensorflow/Keras, that is the compile and fit methods, which we do not yet allow for the homeworks.\n",
    "\n",
    "To use train_step and test_step as methods of the model, we need to have the loss-function, the metrics, and the optimizer as parts of the model, which is why we define them in the init method.\n",
    "\n",
    "Note that we need to update the metrics after each training example and reset the metrics after each epoch or before evaluating our model on the validation data set.\n",
    "\n",
    "Also note that the metrics_list contains a mean metric for the loss, which does not take targets and predictions as arguments in its update_state method, but just a scalar. For this reason, we treat it differently from the remaining metrics."
   ]
  },
  {
   "cell_type": "code",
   "execution_count": 5,
   "id": "89ff255b",
   "metadata": {},
   "outputs": [],
   "source": [
    "class CNN(tf.keras.Model):\n",
    "    def __init__(self):\n",
    "        super(CNN, self).__init__()\n",
    "    \n",
    "        self.optimizer = tf.keras.optimizers.Adam()\n",
    "        \n",
    "        self.metrics_list = [\n",
    "                        tf.keras.metrics.Mean(name=\"loss\"),\n",
    "                        tf.keras.metrics.CategoricalAccuracy(name=\"acc\"),\n",
    "                        tf.keras.metrics.TopKCategoricalAccuracy(3,name=\"top-3-acc\") \n",
    "                       ]\n",
    "        \n",
    "        self.loss_function = tf.keras.losses.CategoricalCrossentropy(from_logits=True)   \n",
    "        \n",
    "        L2_lambda = 0.01\n",
    "        dropout_amount = 0.5\n",
    "        \n",
    "        self.all_layers = [\n",
    "            \n",
    "            tf.keras.layers.Conv2D(filters=32, \n",
    "                                   kernel_size=5, \n",
    "                                   strides=1, \n",
    "                                   padding=\"same\",\n",
    "                                   kernel_initializer=tf.keras.initializers.glorot_uniform,\n",
    "                                   activation=None,\n",
    "                                   kernel_regularizer=tf.keras.regularizers.L2(L2_lambda)),\n",
    "            tf.keras.layers.BatchNormalization(),\n",
    "            tf.keras.layers.Activation(tf.nn.relu),\n",
    "            \n",
    "            tf.keras.layers.MaxPool2D(pool_size=2,strides=1),\n",
    "            \n",
    "            tf.keras.layers.Dropout(dropout_amount),\n",
    "            \n",
    "            tf.keras.layers.Conv2D(filters=32, kernel_size=3, strides=1, padding=\"same\",activation=None,\n",
    "                                  kernel_initializer=tf.keras.initializers.glorot_uniform,\n",
    "                                   kernel_regularizer=tf.keras.regularizers.L2(L2_lambda)),\n",
    "            tf.keras.layers.BatchNormalization(),\n",
    "            tf.keras.layers.Activation(tf.nn.relu),\n",
    "            \n",
    "            tf.keras.layers.GlobalAveragePooling2D(),\n",
    "            tf.keras.layers.BatchNormalization(),\n",
    "            tf.keras.layers.Dropout(dropout_amount),\n",
    "\n",
    "            tf.keras.layers.Dense(128, kernel_regularizer=tf.keras.regularizers.L2(L2_lambda)),\n",
    "            tf.keras.layers.Activation(tf.nn.relu),\n",
    "            \n",
    "            tf.keras.layers.Dropout(dropout_amount),\n",
    "            \n",
    "            tf.keras.layers.Dense(10, kernel_regularizer=tf.keras.regularizers.L2(L2_lambda)),\n",
    "        ]\n",
    "    \n",
    "    def call(self, x, training=False):\n",
    "\n",
    "        for layer in self.all_layers:\n",
    "            try:\n",
    "                x = layer(x,training)\n",
    "            except:\n",
    "                x = layer(x)\n",
    "       \n",
    "        return x\n",
    "    \n",
    "    def reset_metrics(self):\n",
    "        \n",
    "        for metric in self.metrics:\n",
    "            metric.reset_states()\n",
    "            \n",
    "    @tf.function\n",
    "    def train_step(self, data):\n",
    "        \n",
    "        x, targets = data\n",
    "        \n",
    "        with tf.GradientTape() as tape:\n",
    "            predictions = self(x, training=True)\n",
    "            \n",
    "            loss = self.loss_function(targets, predictions) + tf.reduce_sum(self.losses)\n",
    "        \n",
    "        gradients = tape.gradient(loss, self.trainable_variables)\n",
    "        self.optimizer.apply_gradients(zip(gradients, self.trainable_variables))\n",
    "        \n",
    "        # update loss metric\n",
    "        self.metrics[0].update_state(loss)\n",
    "        \n",
    "        # for all metrics except loss, update states (accuracy etc.)\n",
    "        for metric in self.metrics[1:]:\n",
    "            metric.update_state(targets,predictions)\n",
    "\n",
    "        # Return a dictionary mapping metric names to current value\n",
    "        return {m.name: m.result() for m in self.metrics}\n",
    "\n",
    "    @tf.function\n",
    "    def test_step(self, data):\n",
    "\n",
    "        x, targets = data\n",
    "        \n",
    "        predictions = self(x, training=False)\n",
    "        \n",
    "        loss = self.loss_function(targets, predictions) + tf.reduce_sum(self.losses)\n",
    "        \n",
    "        self.metrics[0].update_state(loss)\n",
    "        \n",
    "        for metric in self.metrics[1:]:\n",
    "            metric.update_state(targets, predictions)\n",
    "\n",
    "        return {m.name: m.result() for m in self.metrics}"
   ]
  },
  {
   "cell_type": "markdown",
   "id": "24901b2a",
   "metadata": {},
   "source": [
    "# Preparing the training and validation data\n",
    "\n",
    "Here we use data augmentation for which we use a special model that runs some operations on it (random flipping, resizing and cropping). Note that any kind of model can be used in the input pipeline - even a VAE could be used to encode the images and then add noise to the generative embedding."
   ]
  },
  {
   "cell_type": "code",
   "execution_count": 6,
   "id": "7a7af59b",
   "metadata": {},
   "outputs": [],
   "source": [
    "ds = tfds.load(\"fashion_mnist\", as_supervised=True)\n",
    "\n",
    "train_ds = ds[\"train\"]\n",
    "val_ds = ds[\"test\"]\n",
    "\n",
    "data_augmentation_model = tf.keras.Sequential([\n",
    "    tf.keras.layers.RandomFlip(\"horizontal\"),\n",
    "    tf.keras.layers.Resizing(32,32),\n",
    "    tf.keras.layers.RandomCrop(28,28)\n",
    "])\n",
    "\n",
    "def augment(x):\n",
    "    return data_augmentation_model(x)\n",
    "\n",
    "train_ds = train_ds.map(lambda x,y: (augment(x)/255, tf.one_hot(y, 10, dtype=tf.float32)),\\\n",
    "                        num_parallel_calls=tf.data.AUTOTUNE).shuffle(5000).batch(32).prefetch(tf.data.AUTOTUNE)\n",
    "\n",
    "val_ds = val_ds.map(lambda x,y: (x/255, tf.one_hot(y, 10, dtype=tf.float32)),\\\n",
    "                    num_parallel_calls=tf.data.AUTOTUNE).shuffle(5000).batch(32).prefetch(tf.data.AUTOTUNE)"
   ]
  },
  {
   "cell_type": "code",
   "execution_count": 7,
   "id": "e5068b33",
   "metadata": {},
   "outputs": [],
   "source": [
    "# instantiate the model\n",
    "model = CNN()\n",
    "\n",
    "# run model on input once so the layers are built\n",
    "model(tf.keras.Input((28,28,1)));"
   ]
  },
  {
   "cell_type": "markdown",
   "id": "3c372dcf",
   "metadata": {},
   "source": [
    "# Instantiate the file-writers for the training\n",
    "\n",
    "We store the tensorboard logs to a folder with a meaningful name (e.g. hyperparameter settings + date and time)."
   ]
  },
  {
   "cell_type": "code",
   "execution_count": 8,
   "id": "96f8a5b7",
   "metadata": {},
   "outputs": [],
   "source": [
    "# to clear all logs use this line:\n",
    "\n",
    "#!rm -rf ./logs/"
   ]
  },
  {
   "cell_type": "code",
   "execution_count": 9,
   "id": "474d53ac",
   "metadata": {},
   "outputs": [],
   "source": [
    "# Define where to save the log\n",
    "hyperparameter_string= \"Your_Settings_Here\"\n",
    "current_time = datetime.datetime.now().strftime(\"%Y%m%d-%H%M%S\")\n",
    "\n",
    "train_log_path = f\"logs/{hyperparameter_string}/{current_time}/train\"\n",
    "val_log_path = f\"logs/{hyperparameter_string}/{current_time}/val\"\n",
    "\n",
    "# log writer for training metrics\n",
    "train_summary_writer = tf.summary.create_file_writer(train_log_path)\n",
    "\n",
    "# log writer for validation metrics\n",
    "val_summary_writer = tf.summary.create_file_writer(val_log_path)"
   ]
  },
  {
   "cell_type": "markdown",
   "id": "3f322345",
   "metadata": {},
   "source": [
    "# Writing the training loop\n",
    "\n",
    "Note that you need to re-run the above cell (and hence update the time-stamp) if you don't want to over-write the data of the previous training-run.\n",
    "\n",
    "If you use keras metrics, do not forget to reset the states between train and validation and between epochs.\n",
    "We use metric.update_states(...) to update a metric. This usually means we update the running average with the new value. There also exist keras metrics that can also compute scores such as CategoricalAccuracy, TopKCategoricalAccuracy.\n",
    "\n",
    "We use TQDM to see the progress of each epoch and the estimate of how much time it will take.\n",
    "\n",
    "Instead of looking at the printed losses and accuracies, we can look at the TensorBoard plots which will be updated after every epoch. This requires us to open and load the tensorboard before starting the training."
   ]
  },
  {
   "cell_type": "code",
   "execution_count": 10,
   "id": "02bdf983",
   "metadata": {},
   "outputs": [
    {
     "name": "stdout",
     "output_type": "stream",
     "text": [
      "Epoch 0:\n"
     ]
    },
    {
     "data": {
      "application/vnd.jupyter.widget-view+json": {
       "model_id": "ce0e16ba7a28419a9a1f57c51cb40247",
       "version_major": 2,
       "version_minor": 0
      },
      "text/plain": [
       "  0%|          | 0/1875 [00:00<?, ?it/s]"
      ]
     },
     "metadata": {},
     "output_type": "display_data"
    },
    {
     "name": "stdout",
     "output_type": "stream",
     "text": [
      "['loss: 1.6330411434173584', 'acc: 0.5378666520118713', 'top-3-acc: 0.8592833280563354']\n",
      "['val_loss: 1.154301404953003', 'val_acc: 0.673799991607666', 'val_top-3-acc: 0.9290000200271606']\n",
      "\n",
      "\n",
      "Epoch 1:\n"
     ]
    },
    {
     "data": {
      "application/vnd.jupyter.widget-view+json": {
       "model_id": "d618b4e23ae248a09928bbbc75f5a135",
       "version_major": 2,
       "version_minor": 0
      },
      "text/plain": [
       "  0%|          | 0/1875 [00:00<?, ?it/s]"
      ]
     },
     "metadata": {},
     "output_type": "display_data"
    },
    {
     "name": "stdout",
     "output_type": "stream",
     "text": [
      "['loss: 1.187164068222046', 'acc: 0.649316668510437', 'top-3-acc: 0.9222833514213562']\n",
      "['val_loss: 1.3182868957519531', 'val_acc: 0.5504999756813049', 'val_top-3-acc: 0.8981000185012817']\n",
      "\n",
      "\n",
      "Epoch 2:\n"
     ]
    },
    {
     "data": {
      "application/vnd.jupyter.widget-view+json": {
       "model_id": "bc3beac3b4174012bce3649138ca4500",
       "version_major": 2,
       "version_minor": 0
      },
      "text/plain": [
       "  0%|          | 0/1875 [00:00<?, ?it/s]"
      ]
     },
     "metadata": {},
     "output_type": "display_data"
    },
    {
     "name": "stdout",
     "output_type": "stream",
     "text": [
      "['loss: 1.1142741441726685', 'acc: 0.6719833612442017', 'top-3-acc: 0.9315999746322632']\n",
      "['val_loss: 1.130450963973999', 'val_acc: 0.6363999843597412', 'val_top-3-acc: 0.9246000051498413']\n",
      "\n",
      "\n",
      "Epoch 3:\n"
     ]
    },
    {
     "data": {
      "application/vnd.jupyter.widget-view+json": {
       "model_id": "5642f90b77114799a466f68606dd1e29",
       "version_major": 2,
       "version_minor": 0
      },
      "text/plain": [
       "  0%|          | 0/1875 [00:00<?, ?it/s]"
      ]
     },
     "metadata": {},
     "output_type": "display_data"
    },
    {
     "name": "stdout",
     "output_type": "stream",
     "text": [
      "['loss: 1.0702484846115112', 'acc: 0.6819000244140625', 'top-3-acc: 0.9362333416938782']\n",
      "['val_loss: 1.3629615306854248', 'val_acc: 0.5706999897956848', 'val_top-3-acc: 0.9161999821662903']\n",
      "\n",
      "\n",
      "Epoch 4:\n"
     ]
    },
    {
     "data": {
      "application/vnd.jupyter.widget-view+json": {
       "model_id": "0004a9904f19487aa115c224a4f86ddc",
       "version_major": 2,
       "version_minor": 0
      },
      "text/plain": [
       "  0%|          | 0/1875 [00:00<?, ?it/s]"
      ]
     },
     "metadata": {},
     "output_type": "display_data"
    },
    {
     "name": "stdout",
     "output_type": "stream",
     "text": [
      "['loss: 1.0496524572372437', 'acc: 0.6887166500091553', 'top-3-acc: 0.9386000037193298']\n",
      "['val_loss: 1.530083179473877', 'val_acc: 0.5160999894142151', 'val_top-3-acc: 0.8410999774932861']\n",
      "\n",
      "\n"
     ]
    }
   ],
   "source": [
    "for epoch in range(5):\n",
    "    \n",
    "    print(f\"Epoch {epoch}:\")\n",
    "    \n",
    "    # Training:\n",
    "    \n",
    "    for data in tqdm.notebook.tqdm(train_ds,position=0, leave=True):\n",
    "        metrics = model.train_step(data)\n",
    "    \n",
    "    # print the metrics\n",
    "    print([f\"{key}: {value}\" for (key, value) in zip(list(metrics.keys()), list(metrics.values()))])\n",
    "    \n",
    "    # logging the validation metrics to the log file which is used by tensorboard\n",
    "    with train_summary_writer.as_default():\n",
    "        for metric in model.metrics:\n",
    "            tf.summary.scalar(f\"{metric.name}\", metric.result(), step=epoch)\n",
    "    \n",
    "    # reset all metrics (requires a reset_metrics method in the model)\n",
    "    model.reset_metrics()\n",
    "    \n",
    "    \n",
    "    # Validation:\n",
    "    \n",
    "    for data in val_ds:\n",
    "        metrics = model.test_step(data)\n",
    "    \n",
    "    print([f\"val_{key}: {value}\" for (key, value) in zip(list(metrics.keys()), list(metrics.values()))])\n",
    "    \n",
    "    # logging the validation metrics to the log file which is used by tensorboard\n",
    "    with val_summary_writer.as_default():\n",
    "        for metric in model.metrics:\n",
    "            tf.summary.scalar(f\"{metric.name}\", metric.result(), step=epoch)\n",
    "    \n",
    "    # reset all metrics\n",
    "    model.reset_metrics()\n",
    "    \n",
    "    print(\"\\n\")"
   ]
  },
  {
   "cell_type": "code",
   "execution_count": 11,
   "id": "50ab2fca",
   "metadata": {},
   "outputs": [
    {
     "data": {
      "text/html": [
       "\n",
       "      <iframe id=\"tensorboard-frame-f8f661e9e9e61fb4\" width=\"100%\" height=\"800\" frameborder=\"0\">\n",
       "      </iframe>\n",
       "      <script>\n",
       "        (function() {\n",
       "          const frame = document.getElementById(\"tensorboard-frame-f8f661e9e9e61fb4\");\n",
       "          const url = new URL(\"/\", window.location);\n",
       "          const port = 6007;\n",
       "          if (port) {\n",
       "            url.port = port;\n",
       "          }\n",
       "          frame.src = url;\n",
       "        })();\n",
       "      </script>\n",
       "    "
      ],
      "text/plain": [
       "<IPython.core.display.HTML object>"
      ]
     },
     "metadata": {},
     "output_type": "display_data"
    }
   ],
   "source": [
    "%tensorboard --logdir logs/"
   ]
  },
  {
   "cell_type": "markdown",
   "id": "18965264",
   "metadata": {},
   "source": [
    "# Saving and loading a subclassed model\n",
    "\n",
    "Because training deep neural networks can take multiple days, weeks or even months, we want to save checkpoints in between. This is especially useful if you use Google Colab and you save the model directly to your Google Drive folder. That way you don't lose any progress if your runtime gets closed.\n",
    "\n",
    "Note however that you lose the state of the optimizer. I will provide another notebook that shows how a full model can be saved and loaded by using the in-built compile method."
   ]
  },
  {
   "cell_type": "code",
   "execution_count": null,
   "id": "23e9806f",
   "metadata": {},
   "outputs": [],
   "source": [
    "# save the model with a meaningful name\n",
    "model.save_weights(f\"saved_model_{hyperparameter_string}\", save_format=\"tf\")"
   ]
  },
  {
   "cell_type": "code",
   "execution_count": null,
   "id": "d5aaca57",
   "metadata": {},
   "outputs": [],
   "source": [
    "# instantiate a new model from our CNN class\n",
    "loaded_model = CNN()\n",
    "\n",
    "# build the model\n",
    "inp= tf.keras.Input((28,28,1))\n",
    "loaded_model(inp)\n",
    "\n",
    "# load the model weights to continue training. \n",
    "loaded_model.load_weights(f\"saved_model_{hyperparameter_string}\");"
   ]
  }
 ],
 "metadata": {
  "kernelspec": {
   "display_name": "Python [conda env:uni] *",
   "language": "python",
   "name": "conda-env-uni-py"
  },
  "language_info": {
   "codemirror_mode": {
    "name": "ipython",
    "version": 3
   },
   "file_extension": ".py",
   "mimetype": "text/x-python",
   "name": "python",
   "nbconvert_exporter": "python",
   "pygments_lexer": "ipython3",
   "version": "3.8.11"
  }
 },
 "nbformat": 4,
 "nbformat_minor": 5
}
