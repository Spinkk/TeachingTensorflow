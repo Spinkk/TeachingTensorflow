{
 "cells": [
  {
   "cell_type": "code",
   "execution_count": 48,
   "id": "f659a31f",
   "metadata": {},
   "outputs": [],
   "source": [
    "import tensorflow as tf\n",
    "import numpy as np"
   ]
  },
  {
   "cell_type": "markdown",
   "id": "7252081b",
   "metadata": {},
   "source": [
    "# Using loss functions and optimizers in Tensorflow\n",
    "\n",
    "Tensorflow has a lot of inbuilt functions and classes that are very convenient to use.\n",
    "\n",
    "In [tf.keras.losses](https://www.tensorflow.org/api_docs/python/tf/keras/losses/) we find loss functions and in [tf.keras.optimizers](https://www.tensorflow.org/api_docs/python/tf/keras/optimizers) we find optimizers, including the standard gradient descent."
   ]
  },
  {
   "cell_type": "markdown",
   "id": "36665bf9",
   "metadata": {},
   "source": [
    "## Mean Squared Error"
   ]
  },
  {
   "cell_type": "code",
   "execution_count": 49,
   "id": "59133169",
   "metadata": {},
   "outputs": [
    {
     "name": "stdout",
     "output_type": "stream",
     "text": [
      "error for each training example in the batch:\n",
      " [0.1370967  0.15011537 0.2427506  0.12684295 0.1503181  0.15855145\n",
      " 0.16248909 0.10417567] \n",
      "\n",
      "average mse for the batch:\n",
      " 0.15404248\n"
     ]
    }
   ],
   "source": [
    "BATCH_SIZE = 8\n",
    "N_PREDICTED_FEATURES = 5\n",
    "\n",
    "targets = tf.random.uniform((BATCH_SIZE, N_PREDICTED_FEATURES))\n",
    "predictions = tf.random.uniform((BATCH_SIZE, N_PREDICTED_FEATURES))\n",
    "\n",
    "\n",
    "mean_squared_error = tf.keras.losses.MSE(targets,predictions)\n",
    "print(\"error for each training example in the batch:\\n\", mean_squared_error.numpy(), \"\\n\")\n",
    "\n",
    "average_mse = tf.reduce_mean(mean_squared_error, axis=None)\n",
    "print(\"average mse for the batch:\\n\", average_mse.numpy())"
   ]
  },
  {
   "cell_type": "markdown",
   "id": "124b9b9b",
   "metadata": {},
   "source": [
    "## Categorical CrossEntropy"
   ]
  },
  {
   "cell_type": "code",
   "execution_count": 50,
   "id": "63a1c4ce",
   "metadata": {},
   "outputs": [
    {
     "name": "stdout",
     "output_type": "stream",
     "text": [
      "CCE loss between predicted label probabilities and ground truth labels is:\n",
      " 1.5270935\n"
     ]
    }
   ],
   "source": [
    "labels = [[0,1,0],\n",
    "         [0,0,1],\n",
    "         [1,0,0],\n",
    "         [1,0,0],\n",
    "         [0,1,0]]\n",
    "\n",
    "labels = tf.constant(labels, dtype=tf.float32)\n",
    "\n",
    "predictions = tf.random.normal(labels.shape)\n",
    "\n",
    "# turn network output into categorical probability distribution over the labels\n",
    "predictions = tf.nn.softmax(predictions)\n",
    "\n",
    "\n",
    "# calculate categorical crossentropy\n",
    "\n",
    "CCE_loss = tf.keras.losses.CategoricalCrossentropy()\n",
    "batch_loss = CCE_loss(labels, predictions)\n",
    "\n",
    "print(\"CCE loss between predicted label probabilities and ground truth labels is:\\n\", batch_loss.numpy())"
   ]
  },
  {
   "cell_type": "markdown",
   "id": "650b3fcc",
   "metadata": {},
   "source": [
    "## Binary CrossEntropy"
   ]
  },
  {
   "cell_type": "code",
   "execution_count": 51,
   "id": "fd0c49b8",
   "metadata": {},
   "outputs": [
    {
     "name": "stdout",
     "output_type": "stream",
     "text": [
      "BCE loss between predicted label probabilities and ground truth labels is:\n",
      " 0.96125954\n"
     ]
    }
   ],
   "source": [
    "labels = [1,0,0,1,0,0,1,0]\n",
    "labels = tf.constant(labels, dtype = tf.float32)\n",
    "\n",
    "predictions = tf.random.uniform(labels.shape)\n",
    "\n",
    "BCE_loss = tf.keras.losses.BinaryCrossentropy()\n",
    "batch_loss = BCE_loss(labels,predictions)\n",
    "\n",
    "print(\"BCE loss between predicted label probabilities and ground truth labels is:\\n\", batch_loss.numpy())"
   ]
  },
  {
   "cell_type": "markdown",
   "id": "33cee8b0",
   "metadata": {},
   "source": [
    "# Optimizers"
   ]
  },
  {
   "cell_type": "code",
   "execution_count": 63,
   "id": "aba3418c",
   "metadata": {},
   "outputs": [
    {
     "name": "stdout",
     "output_type": "stream",
     "text": [
      "before training: <tf.Variable 'Variable:0' shape=() dtype=float32, numpy=520.5>\n",
      "after training:  <tf.Variable 'Variable:0' shape=() dtype=float32, numpy=3.1415927>\n"
     ]
    }
   ],
   "source": [
    "\n",
    "# choose optimizer and loss\n",
    "\n",
    "optimizer = tf.keras.optimizers.SGD(learning_rate=0.001,\n",
    "                                   momentum=0)\n",
    "\n",
    "loss_function = tf.keras.losses.MSE\n",
    "\n",
    "# create data\n",
    "x = tf.linspace(0,100, 128)\n",
    "x = tf.cast(x, tf.float32) # turn into float32 tensor\n",
    "\n",
    "y = x * np.pi\n",
    "\n",
    "# a simple linear univariate model function without bias\n",
    "def model(x, parameter):\n",
    "    return x * parameter\n",
    "\n",
    "\n",
    "# set learning rate\n",
    "learning_rate = 0.001\n",
    "\n",
    "# initialize parameter variable to a value far away from pi\n",
    "parameter_estimate = tf.Variable(520.5, trainable=True, dtype=tf.float32)\n",
    "\n",
    "print(\"before training:\", parameter_estimate)\n",
    "\n",
    "#iterate over epochs\n",
    "for epoch in range(1):\n",
    "\n",
    "    # iterate over training examples\n",
    "    for x,y in zip(x,y):\n",
    "        \n",
    "        x = tf.expand_dims(x, axis = 0) # add batch dimension (of 1) \n",
    "        y = tf.expand_dims(y, axis = 0)\n",
    "        \n",
    "        # within GradientTape context manager, calculate loss between targets and prediction\n",
    "        with tf.GradientTape() as tape:\n",
    "\n",
    "            prediction = model(x, parameter_estimate)\n",
    "\n",
    "            loss = tf.reduce_mean(loss_function(y, prediction))\n",
    "\n",
    "        # outside of context manager, obtain gradients with respect to list of trainable variables\n",
    "        gradients = tape.gradient(loss, [parameter_estimate])\n",
    "\n",
    "        #apply gradients with optimizer\n",
    "        optimizer.apply_gradients(zip(gradients, [parameter_estimate]))\n",
    "        \n",
    "print(\"after training: \", parameter_estimate)"
   ]
  }
 ],
 "metadata": {
  "kernelspec": {
   "display_name": "Python [conda env:uni] *",
   "language": "python",
   "name": "conda-env-uni-py"
  },
  "language_info": {
   "codemirror_mode": {
    "name": "ipython",
    "version": 3
   },
   "file_extension": ".py",
   "mimetype": "text/x-python",
   "name": "python",
   "nbconvert_exporter": "python",
   "pygments_lexer": "ipython3",
   "version": "3.8.11"
  }
 },
 "nbformat": 4,
 "nbformat_minor": 5
}
