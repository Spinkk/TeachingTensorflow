{
 "cells": [
  {
   "cell_type": "markdown",
   "id": "43c7cbfa",
   "metadata": {},
   "source": [
    "[![Open In Colab](https://colab.research.google.com/assets/colab-badge.svg)](https://colab.research.google.com/github/Spinkk/TeachingTensorflow/blob/main/RNNs/RNNs%20as%20temporal%20weight%20sharing.ipynb)\n",
    "\n",
    "# Basic RNNs as fully connected network architectures with temporally shared weights\n",
    "\n",
    "In this notebook, I show you how a basic RNN that uses a simple recurrent cell (no LSTM or GRU) transforms input by applying the same matrix multiplications at each time step, using the latest output as one of the inputs. After having investigated the computations involved in recurrent neural networks, you will also see how you can write your own RNN wrapper and simple rnn cell layers in tensorflow, which you can use as an orientation for the homework.\n",
    "\n",
    "\n",
    "Remember that tf.keras.layers.Dense layers perform a matrix multiplication on their input, so we use these layers to define our RNN cell.\n",
    "\n",
    "A basic RNN takes its own current hidden state (which is a vector of dimension n_outputs for each example in the batch) and linearly transforms it with a weight matrix, creating a vector of n_outputs dimensions. In addition (quite literally) to that, the RNN cell takes the input at the current time-step t (which is the feature vector in the example for time-step t). Adding the results from the two matrix multiplications together with a bias (and applying a tanh activation to the sum), we obtain the hidden state of the RNN-cell that will then be used at the next time-step t+1, together with the input data feature vector at t+1.\n",
    "\n",
    "More formally written, the computation of a simple RNN cell at one time-step can be described as follows:\n",
    "\n",
    "### $$h^{<t+1>} = tanh ( W_{hh} h^{<t>} + W_{xh} x^{<t>} + b )$$ \n",
    "\n",
    "Where $x^{<t>}$ is the feature input at time-step t, and $W_{xh}$ is a matrix of shape x (the dimensionality of the input feature vector at a single time-step) by h (the dimensionality of the hidden state).\n",
    "\n",
    "\n",
    "Below we implement this type of an RNN on some input (not inside a tf.keras.Model or tf.keras.Layer but as separate layers since we don't do any model fitting here). First we show how to use tensorflow/keras inbuilt RNN cell and RNN wrapper layers to achieve this. By the end of the notebook you'll know how to implement these layers yourself from scratch.\n",
    "\n",
    "Note: You will see the context defined by \"with tf.device('/device:cpu:0'):\" quite a lot in this notebook. This is to force tensorflow to do computations on the device specified. Since we do not need a GPU for this notebook, it's better to not have tensorflow reserve the GPU memory."
   ]
  },
  {
   "cell_type": "code",
   "execution_count": 1,
   "id": "b70ee7b0",
   "metadata": {},
   "outputs": [],
   "source": [
    "import tensorflow as tf"
   ]
  },
  {
   "cell_type": "code",
   "execution_count": 14,
   "id": "f192659b",
   "metadata": {},
   "outputs": [
    {
     "name": "stdout",
     "output_type": "stream",
     "text": [
      "The output of the RNN, which is the last hidden state is \n",
      "[[ 0.17481816  0.9551942   0.48502997]\n",
      " [ 0.3236171   0.6451717  -0.5921114 ]]\n",
      "\n",
      "\n"
     ]
    }
   ],
   "source": [
    "with tf.device('/device:cpu:0'):\n",
    "    \n",
    "    # 1 batch with 6 time steps of 16 features. The time-dimension is the second after the batch dimension.\n",
    "    input_shape = (2, 6, 16)\n",
    "\n",
    "    # The length of the resulting vector (similar to the units argument in Dense layers)\n",
    "    n_outputs = 3\n",
    "    \n",
    "    input_sequence = tf.random.uniform(shape = input_shape)\n",
    "    \n",
    "    simple_RNN_cell = tf.keras.layers.SimpleRNNCell(n_outputs)\n",
    "    \n",
    "    # return_sequences=False means we only output the final hidden_state.\n",
    "    RNN = tf.keras.layers.RNN(simple_RNN_cell, return_sequences=False)\n",
    "    \n",
    "    output = RNN(input_sequence)\n",
    "    \n",
    "    print(f\"The output of the RNN, which is the last hidden state is \\n{output}\\n\\n\")\n",
    "    "
   ]
  },
  {
   "cell_type": "markdown",
   "id": "b03e4d2c",
   "metadata": {},
   "source": [
    "# tf.keras.layers.RNN and tf.keras.layers.SimpleRNNCell from scratch\n",
    "\n",
    "Now we want to look at how we can implement what happens inside the two pre-defined layers that we have used above.\n",
    "\n",
    "To do so, we create two dense layers carrying the matrices $W_{hh}$ and $W_{xh}$ that are involved in the simple RNN cell. For the bias $b$ we create a separate tf.variable. Notice that we disable the use of a bias in the dense layers and do not use an activation either, because we want a simple matrix multiplication.\n",
    "\n",
    "With the weight matrices and the bias defined, we can start to iterate over the same input sequence data that we have used before. The initial hidden state of the RNN cell is set to be a vector of zeros before looping over the input sequence.\n",
    "\n",
    "At each time-step we use the previous hidden-state of the cell and update it, following the equation shown in the beginning of the notebook. The output of this custom RNN is then just the final hidden-state vector.\n",
    "\n",
    "Notice how we use the same two weight matrices and the same bias for different temporal parts of the input data. This is why RNNs can be thought of as another variant of weight sharing."
   ]
  },
  {
   "cell_type": "code",
   "execution_count": 15,
   "id": "c1b57de0",
   "metadata": {},
   "outputs": [
    {
     "name": "stdout",
     "output_type": "stream",
     "text": [
      "The output of the custom RNN that we built with dense layers is: \n",
      "[[ 0.40653017  0.42645782  0.64013284]\n",
      " [ 0.3062448  -0.06140849  0.27174112]]\n",
      "\n",
      "\n"
     ]
    }
   ],
   "source": [
    "with tf.device('/device:cpu:0'):\n",
    "    ### We've seen the output of the randomly initialized simple RNN.\n",
    "    ### Now we want to show the computations that were involved by doing the same with dense layers \n",
    "    \n",
    "    ### Remember that dense layers without activation are just matrix multiplication of a weight matrix with input\n",
    "    \n",
    "    # We create the Dense layers (that will store the matrices)\n",
    "    dense_layer_hstate = tf.keras.layers.Dense(n_outputs, activation=None, use_bias=False)\n",
    "    dense_layer_input = tf.keras.layers.Dense(n_outputs, activation=None, use_bias=False)\n",
    "    bias = tf.Variable(tf.zeros(n_outputs, dtype=tf.float32), name=\"biases\")\n",
    "    \n",
    "    # create the initial hidden state\n",
    "    state = tf.zeros((1,n_outputs), tf.float32)\n",
    "    \n",
    "    # iterate over the time-steps\n",
    "    for t in tf.range(input_shape[1]):\n",
    "        # on this iteration we use the input at timestep t\n",
    "        input_t =input_sequence[:,t,:]\n",
    "        \n",
    "        # we compute the sum of the input at t matrix multiplied, with the previous state matrix multiplied\n",
    "        # and an additional bias added.\n",
    "        x_sum = dense_layer_input(input_t) + dense_layer_hstate(state) + bias\n",
    "        \n",
    "        # finally we use tanh as an activation function to update the RNN cell state\n",
    "        state = tf.nn.tanh(x_sum)\n",
    "\n",
    "    print(f\"The output of the custom RNN that we built with dense layers is: \\n{state}\\n\\n\")"
   ]
  },
  {
   "cell_type": "markdown",
   "id": "e0d88524",
   "metadata": {},
   "source": [
    "# Copying the weights of the pre-defined RNN to our custom RNN to verify the implementation\n",
    "\n",
    "To make sure that we do the same computations as in the pre-defined tf.keras.layers.SimpleRNNCell and the wrapper layer (which implements the for loop) tf.keras.layers.RNN, we take the weights that we have used before and assign them to the two dense layers and the bias. We observe that we now get the exact same output - our implementation is correct.\n",
    "\n",
    "This type of testing can be helpful to verify your custom implementations of the computations involved in the layers."
   ]
  },
  {
   "cell_type": "code",
   "execution_count": 16,
   "id": "33cee053",
   "metadata": {
    "scrolled": true
   },
   "outputs": [
    {
     "name": "stdout",
     "output_type": "stream",
     "text": [
      "With the same weights as the pre-defined RNN, our custom RNN's output is\n",
      " [[ 0.17481816  0.9551942   0.48502997]\n",
      " [ 0.3236171   0.6451717  -0.5921114 ]]\n",
      "\n",
      "The outputs of the pre-defined RNN and our custom RNN are the same: True\n"
     ]
    }
   ],
   "source": [
    "with tf.device('/device:cpu:0'):\n",
    "    # Now we want to copy the weights of this RNN to a fully connected model to obtain the same output\n",
    "    \n",
    "    RNN_cell_input_weights = RNN.trainable_variables[0]\n",
    "\n",
    "    RNN_cell_hstate_weights = RNN.trainable_variables[1]\n",
    "    \n",
    "    RNN_cell_biases = RNN.trainable_variables[2]\n",
    "    \n",
    "    dense_layer_hstate.weights[0].assign(tf.reshape(RNN_cell_hstate_weights, dense_layer_hstate.weights[0].shape))\n",
    "    dense_layer_input.weights[0].assign(tf.reshape(RNN_cell_input_weights, dense_layer_input.weights[0].shape))\n",
    "    bias.assign(RNN_cell_biases)\n",
    "    \n",
    "    # again we run our custom RNN, this time with the same weights as the tf.keras.layers.RNN version\n",
    "    \n",
    "    # same code as above\n",
    "    state = tf.zeros((1,n_outputs), tf.float32)\n",
    "\n",
    "    for t in tf.range(input_shape[1]):\n",
    "        input_t =input_sequence[:,t,:]\n",
    "        \n",
    "        x_sum = dense_layer_input(input_t) + dense_layer_hstate(state) + bias\n",
    "\n",
    "        state = tf.nn.tanh(x_sum)\n",
    "    \n",
    "    print(f\"With the same weights as the pre-defined RNN, our custom RNN's output is\\n {state}\\n\")\n",
    "    \n",
    "    print(f\"The outputs of the pre-defined RNN and our custom RNN are the same: {tf.reduce_all(state==output)}\")"
   ]
  },
  {
   "cell_type": "markdown",
   "id": "5e7910b2",
   "metadata": {},
   "source": [
    "# Return sequences of hidden-states with an RNN\n",
    "\n",
    "Before we have set the return_sequences argument to False, and we ended up with a single vector as the output (the final hidden state) of the RNN. To obtain a sequence from the RNN, we want to return the hidden states from all the time-steps. This is useful for cases in which we want to translate from one sequence to another, like in language translation or audio-processing. To implement this with the pre-defined layers, we use the same simple rnn cell layer as before but re-instantiate the RNN wrapper layer with the new argument set."
   ]
  },
  {
   "cell_type": "code",
   "execution_count": 18,
   "id": "05b005af",
   "metadata": {},
   "outputs": [
    {
     "name": "stdout",
     "output_type": "stream",
     "text": [
      "The output of the RNN, which is the last hidden state is \n",
      " [[[-3.0370799e-01  8.2251513e-01  6.1285055e-01]\n",
      "  [-5.5229354e-01  8.4337991e-01  4.5760280e-01]\n",
      "  [-1.0805597e-01  4.6615121e-01  5.1362753e-02]\n",
      "  [-1.6602981e-01 -3.8335644e-02  4.9897563e-02]\n",
      "  [ 4.4487515e-01  3.4160706e-01  7.7810884e-01]\n",
      "  [ 1.7481816e-01  9.5519418e-01  4.8502997e-01]]\n",
      "\n",
      " [[ 7.8896761e-02  4.1681889e-01  8.1771278e-01]\n",
      "  [-3.1999335e-01  4.8503804e-01  2.1094157e-01]\n",
      "  [ 8.3357078e-04  1.5827732e-01 -1.8002026e-01]\n",
      "  [ 4.2266491e-01  3.5075590e-01  2.3640439e-01]\n",
      "  [ 1.3910948e-01  5.6831509e-01  1.7772867e-01]\n",
      "  [ 3.2361710e-01  6.4517170e-01 -5.9211141e-01]]]\n",
      "\n",
      "\n"
     ]
    }
   ],
   "source": [
    "with tf.device('/device:cpu:0'):\n",
    "    # simple_RNN_cell and input_sequence remain unchanged\n",
    "    \n",
    "    # return_sequences=True means we output the hidden_states of all time-steps.\n",
    "    RNN = tf.keras.layers.RNN(simple_RNN_cell, return_sequences=True)\n",
    "    \n",
    "    RNN_outputs = RNN(input_sequence)\n",
    "    \n",
    "    print(f\"The output of the RNN, which is the last hidden state is \\n {RNN_outputs}\\n\\n\")"
   ]
  },
  {
   "cell_type": "markdown",
   "id": "4c2ed762",
   "metadata": {},
   "source": [
    "# Return sequences from scratch\n",
    "\n",
    "To implement this in a way that will allow you to also use this in tensorflow models that use the @tf.function decorator, we can't just create a list of the hidden states and append to it - tensorflow does not allow list appends in graph mode. Instead we need to make use of a tf.TensorArray object (this also allows for the case in which we do not know how many time-steps we will process and thus can't know beforehand how many hidden-states we want to output).\n",
    "\n",
    "A tf.TensorArray object is not just a tensor and thus we need to call the .stack() method on it to obtain the hidden_states that it stores. Since the result has the batch-dimension and the time-dimension switched, we make use of a permuted transpose."
   ]
  },
  {
   "cell_type": "code",
   "execution_count": 19,
   "id": "1c416bf4",
   "metadata": {
    "scrolled": false
   },
   "outputs": [
    {
     "name": "stdout",
     "output_type": "stream",
     "text": [
      "The output of the custom RNN that we built with dense layers is: \n",
      "[[[-3.0370799e-01  8.2251513e-01  6.1285055e-01]\n",
      "  [-5.5229354e-01  8.4337991e-01  4.5760280e-01]\n",
      "  [-1.0805597e-01  4.6615121e-01  5.1362753e-02]\n",
      "  [-1.6602981e-01 -3.8335644e-02  4.9897563e-02]\n",
      "  [ 4.4487515e-01  3.4160706e-01  7.7810884e-01]\n",
      "  [ 1.7481816e-01  9.5519418e-01  4.8502997e-01]]\n",
      "\n",
      " [[ 7.8896761e-02  4.1681889e-01  8.1771278e-01]\n",
      "  [-3.1999335e-01  4.8503804e-01  2.1094157e-01]\n",
      "  [ 8.3357078e-04  1.5827732e-01 -1.8002026e-01]\n",
      "  [ 4.2266491e-01  3.5075590e-01  2.3640439e-01]\n",
      "  [ 1.3910948e-01  5.6831509e-01  1.7772867e-01]\n",
      "  [ 3.2361710e-01  6.4517170e-01 -5.9211141e-01]]]\n",
      "\n",
      "\n"
     ]
    }
   ],
   "source": [
    "with tf.device('/device:cpu:0'):\n",
    "\n",
    "    state = tf.zeros((input_sequence.shape[0],n_outputs), tf.float32)\n",
    "\n",
    "    # initialize the hidden_states TensorArray that we want to output (shape is: batch, time-steps, h_dim)\n",
    "    hidden_states = tf.TensorArray(dtype=tf.float32, size = input_sequence.shape[1])\n",
    "\n",
    "    for t in tf.range(input_shape[1]):\n",
    "        input_t =input_sequence[:,t,:]\n",
    "\n",
    "        x_sum = dense_layer_input(input_t) + dense_layer_hstate(state) + bias\n",
    "\n",
    "        state = tf.nn.tanh(x_sum)\n",
    "\n",
    "        # write the states to the TensorArray\n",
    "        hidden_states = hidden_states.write(t, state)\n",
    "\n",
    "    # transpose the sequence of hidden_states from TensorArray accordingly (batch and time dimensions switched)\n",
    "    custom_RNN_outputs = tf.transpose(hidden_states.stack(), [1,0,2])\n",
    "\n",
    "    print(f\"The output of the custom RNN that we built with dense layers is: \\n{custom_RNN_outputs}\\n\\n\")"
   ]
  },
  {
   "cell_type": "markdown",
   "id": "c9186ca1",
   "metadata": {},
   "source": [
    "Now let us verify that the @tf.function decorator works with this."
   ]
  },
  {
   "cell_type": "code",
   "execution_count": 20,
   "id": "bcb25148",
   "metadata": {},
   "outputs": [
    {
     "name": "stdout",
     "output_type": "stream",
     "text": [
      "The output of the custom RNN that we built with dense layers is: \n",
      "[[[-3.0370799e-01  8.2251513e-01  6.1285055e-01]\n",
      "  [-5.5229354e-01  8.4337991e-01  4.5760280e-01]\n",
      "  [-1.0805597e-01  4.6615121e-01  5.1362753e-02]\n",
      "  [-1.6602981e-01 -3.8335644e-02  4.9897563e-02]\n",
      "  [ 4.4487515e-01  3.4160706e-01  7.7810884e-01]\n",
      "  [ 1.7481816e-01  9.5519418e-01  4.8502997e-01]]\n",
      "\n",
      " [[ 7.8896761e-02  4.1681889e-01  8.1771278e-01]\n",
      "  [-3.1999335e-01  4.8503804e-01  2.1094157e-01]\n",
      "  [ 8.3357078e-04  1.5827732e-01 -1.8002026e-01]\n",
      "  [ 4.2266491e-01  3.5075590e-01  2.3640439e-01]\n",
      "  [ 1.3910948e-01  5.6831509e-01  1.7772867e-01]\n",
      "  [ 3.2361710e-01  6.4517170e-01 -5.9211141e-01]]]\n",
      "\n",
      "\n"
     ]
    }
   ],
   "source": [
    "with tf.device('/device:cpu:0'):\n",
    "    @tf.function\n",
    "    def tf_func():\n",
    "\n",
    "        state = tf.zeros((input_sequence.shape[0],n_outputs), tf.float32)\n",
    "\n",
    "        # initialize the hidden_states TensorArray that we want to output (shape is: batch, time-steps, h_dim)\n",
    "        hidden_states = tf.TensorArray(dtype=tf.float32, size=input_sequence.shape[1])\n",
    "\n",
    "        for t in tf.range(input_shape[1]):\n",
    "            input_t =input_sequence[:,t,:]\n",
    "\n",
    "            x_sum = dense_layer_input(input_t) + dense_layer_hstate(state) + bias\n",
    "\n",
    "            state = tf.nn.tanh(x_sum)\n",
    "\n",
    "            # write the states to the TensorArray\n",
    "            hidden_states = hidden_states.write(t, state)\n",
    "\n",
    "        # transpose the sequence of hidden_states from TensorArray accordingly (batch and time dimensions switched)\n",
    "        custom_RNN_outputs = tf.transpose(hidden_states.stack(), [1,0,2])\n",
    "        \n",
    "        return custom_RNN_outputs\n",
    "    custom_RNN_outputs = tf_func()\n",
    "    print(f\"The output of the custom RNN that we built with dense layers is: \\n{custom_RNN_outputs}\\n\\n\")"
   ]
  },
  {
   "cell_type": "markdown",
   "id": "b3f87760",
   "metadata": {},
   "source": [
    "Finally, we again verify that the outputs with return_sequences=True match between our custom implementation of the computations involved and the pre-defined RNN-wrapper and cell. Since we did not re-initialize the weights, the outputs should still be the same."
   ]
  },
  {
   "cell_type": "code",
   "execution_count": 21,
   "id": "0dc99e30",
   "metadata": {},
   "outputs": [
    {
     "name": "stdout",
     "output_type": "stream",
     "text": [
      "True\n"
     ]
    }
   ],
   "source": [
    "print(tf.reduce_all(custom_RNN_outputs == RNN_outputs).numpy())"
   ]
  },
  {
   "cell_type": "markdown",
   "id": "7a4c2cb5",
   "metadata": {},
   "source": [
    "# Implementing custom RNNs with subclassing\n",
    "\n",
    "Let's start with writing the RNNWrapper function which loops over the observations at the different time-steps.\n",
    "\n",
    "Like in tf.keras.layers.RNN, we implement a return_sequences argument that controls whether to return a sequence of hidden states or just the last hidden state.\n",
    "\n",
    "(!) Important: This RNNWrapper is written only with the Simple RNN Cell in mind. It does not (yet - it is part of your task for the homework to adjust this) allow for LSTM Cells because here we only take care of the hidden_states but not of the cell state (since it does not exist for the basic rnn)."
   ]
  },
  {
   "cell_type": "code",
   "execution_count": 9,
   "id": "025a4864",
   "metadata": {},
   "outputs": [],
   "source": [
    "class RNNWrapper(tf.keras.layers.Layer):\n",
    "    def __init__(self, RNN_Cell, return_sequences=False):\n",
    "        super(RNNWrapper, self).__init__()\n",
    "        \n",
    "        self.return_sequences = return_sequences\n",
    "        \n",
    "        self.cell = RNN_Cell\n",
    "    \n",
    "    def call(self, data, training=False):\n",
    "        \n",
    "        length = data.shape[1]\n",
    "        \n",
    "        # initialize state of the simple rnn cell\n",
    "        state = tf.zeros((data.shape[0], self.cell.units), tf.float32)\n",
    "        \n",
    "        # initialize array for hidden states (only relevant if self.return_sequences == True)\n",
    "        hidden_states = tf.TensorArray(dtype=tf.float32, size=length)\n",
    "\n",
    "        for t in tf.range(length):\n",
    "            input_t = data[:,t,:]\n",
    "\n",
    "            state = self.cell(input_t, state, training)\n",
    "\n",
    "            if self.return_sequences:\n",
    "                # write the states to the TensorArray\n",
    "                hidden_states = hidden_states.write(t, state)\n",
    "        \n",
    "        if self.return_sequences:\n",
    "            # transpose the sequence of hidden_states from TensorArray accordingly \n",
    "            #(batch and time dimensions are otherwise switched after .stack())\n",
    "            outputs = tf.transpose(hidden_states.stack(), [1,0,2])\n",
    "        \n",
    "        else:\n",
    "            # take the last hidden state of the simple rnn cell\n",
    "            outputs = state\n",
    "        \n",
    "        return outputs"
   ]
  },
  {
   "cell_type": "markdown",
   "id": "cc983b29",
   "metadata": {},
   "source": [
    "Next we implement the SimpleRNNCell which is compatible with our custom RNN wrapper layer, because it only has a single hidden state (no cell state like the LSTM).\n",
    "\n",
    "Here we "
   ]
  },
  {
   "cell_type": "code",
   "execution_count": 25,
   "id": "41282a3c",
   "metadata": {},
   "outputs": [],
   "source": [
    "class CustomSimpleRNNCell(tf.keras.layers.Layer):\n",
    "    def __init__(self, units, kernel_regularizer=None ):\n",
    "        super(CustomSimpleRNNCell, self).__init__()\n",
    "        \n",
    "        self.units = units\n",
    "        \n",
    "        self.dense_hstate = tf.keras.layers.Dense(units, kernel_regularizer=kernel_regularizer, use_bias=False)\n",
    "        \n",
    "        self.dense_input = tf.keras.layers.Dense(units, kernel_regularizer=kernel_regularizer, use_bias=False)\n",
    "        \n",
    "        self.bias = tf.Variable(tf.zeros(units), name=\"RNN_Cell_biases\")\n",
    "        \n",
    "        self.state_size = units\n",
    "        \n",
    "        \n",
    "    def call(self, input_t, state,training=False):\n",
    "        \n",
    "        # we compute the sum of the input at t matrix multiplied and the previous state matrix multiplied\n",
    "        # and an additional bias added.\n",
    "        x_sum = self.dense_input(input_t) + self.dense_hstate(state) + self.bias\n",
    "        \n",
    "        # finally we use hyperbolic tangent as an activation function to update the RNN cell state\n",
    "        state = tf.nn.tanh(x_sum)\n",
    "        \n",
    "        return state"
   ]
  },
  {
   "cell_type": "markdown",
   "id": "b42ce580",
   "metadata": {},
   "source": [
    "Next, we define an RNN_model class, which uses the simple RNN to obtain a single feature vector from the time-series and makes a prediction based on this feature vector, using two fully connected layers."
   ]
  },
  {
   "cell_type": "code",
   "execution_count": 26,
   "id": "6318bf8b",
   "metadata": {},
   "outputs": [],
   "source": [
    "class RNN_Model(tf.keras.Model):\n",
    "    def __init__(self, units):\n",
    "        super(RNN_Model, self).__init__()\n",
    "        \n",
    "        self.cell = CustomSimpleRNNCell(units)\n",
    "        self.RNNWrapper = RNNWrapper(self.cell, return_sequences=False)\n",
    "        \n",
    "        self.dense = tf.keras.layers.Dense(128, activation=\"relu\")\n",
    "        \n",
    "        self.out = tf.keras.layers.Dense(10, activation=\"softmax\")\n",
    "        \n",
    "    def call(self, data, training=False):\n",
    "        \n",
    "        x = self.RNNWrapper(data, training)\n",
    "        x = self.dense(x)\n",
    "        x = self.out(x)\n",
    "        \n",
    "        return x"
   ]
  },
  {
   "cell_type": "markdown",
   "id": "19bbe2d4",
   "metadata": {},
   "source": [
    "Lastly, we instantiate and use an RNN model on some random input as before."
   ]
  },
  {
   "cell_type": "code",
   "execution_count": 27,
   "id": "8a8f9122",
   "metadata": {},
   "outputs": [
    {
     "name": "stdout",
     "output_type": "stream",
     "text": [
      "The randomly initialized RNN model outputs the class probabilities \n",
      "[[0.06576791 0.07322028 0.07317584 0.05219256 0.15585336 0.10260176\n",
      "  0.06084397 0.1635286  0.06335714 0.18945853]]\n",
      " for the random input.\n"
     ]
    }
   ],
   "source": [
    "with tf.device('/device:cpu:0'):\n",
    "    \n",
    "    input_sequence = tf.random.uniform(shape = (1,24,16), dtype=tf.float32)\n",
    "\n",
    "    hidden_state_size = 256\n",
    "\n",
    "    rnn = RNN_Model(hidden_state_size)\n",
    "\n",
    "    prediction = rnn(input_sequence)\n",
    "\n",
    "    print(f\"The randomly initialized RNN model outputs the class probabilities \\n{prediction}\\n for the random input.\")"
   ]
  },
  {
   "cell_type": "code",
   "execution_count": 28,
   "id": "05d41ef1",
   "metadata": {},
   "outputs": [
    {
     "name": "stdout",
     "output_type": "stream",
     "text": [
      "Model: \"rnn__model_2\"\n",
      "_________________________________________________________________\n",
      " Layer (type)                Output Shape              Param #   \n",
      "=================================================================\n",
      " custom_simple_rnn_cell (Cus  multiple                 69888     \n",
      " tomSimpleRNNCell)                                               \n",
      "                                                                 \n",
      " rnn_wrapper_1 (RNNWrapper)  multiple                  69888     \n",
      "                                                                 \n",
      " dense_10 (Dense)            multiple                  32896     \n",
      "                                                                 \n",
      " dense_11 (Dense)            multiple                  1290      \n",
      "                                                                 \n",
      "=================================================================\n",
      "Total params: 104,074\n",
      "Trainable params: 104,074\n",
      "Non-trainable params: 0\n",
      "_________________________________________________________________\n"
     ]
    }
   ],
   "source": [
    "rnn.summary()"
   ]
  }
 ],
 "metadata": {
  "kernelspec": {
   "display_name": "Python [conda env:uni] *",
   "language": "python",
   "name": "conda-env-uni-py"
  },
  "language_info": {
   "codemirror_mode": {
    "name": "ipython",
    "version": 3
   },
   "file_extension": ".py",
   "mimetype": "text/x-python",
   "name": "python",
   "nbconvert_exporter": "python",
   "pygments_lexer": "ipython3",
   "version": "3.8.11"
  }
 },
 "nbformat": 4,
 "nbformat_minor": 5
}
