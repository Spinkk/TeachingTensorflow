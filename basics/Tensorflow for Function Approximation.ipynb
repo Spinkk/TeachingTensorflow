{
 "cells": [
  {
   "cell_type": "code",
   "execution_count": 1,
   "id": "aab7726f",
   "metadata": {},
   "outputs": [],
   "source": [
    "import tensorflow as tf\n",
    "import numpy as np\n",
    "\n",
    "import seaborn as sns\n",
    "sns.set(rc={'figure.figsize':(11.7,8.27)}) # set figure size for plotting in seaborn"
   ]
  },
  {
   "cell_type": "code",
   "execution_count": 3,
   "id": "20f2fda5",
   "metadata": {},
   "outputs": [],
   "source": [
    "def data_generator():\n",
    "    while True:\n",
    "        \n",
    "        # draw 6 numbers from standard normal distribution\n",
    "        \n",
    "        datum = np.random.randn(6)       \n",
    "        \n",
    "        # define an offset\n",
    "        offset = 0.3\n",
    "        \n",
    "        noise = np.random.randn() * 0.05\n",
    "        \n",
    "        target = np.sum(datum ** 2 ) + offset + noise\n",
    "        \n",
    "        # get the input, output pair as tf tensors\n",
    "        yield (tf.constant(datum, dtype=tf.float32), tf.constant(target, dtype=tf.float32))"
   ]
  },
  {
   "cell_type": "code",
   "execution_count": 4,
   "id": "8f4346ea",
   "metadata": {},
   "outputs": [
    {
     "name": "stderr",
     "output_type": "stream",
     "text": [
      "2021-10-30 16:11:55.404172: I tensorflow/stream_executor/cuda/cuda_gpu_executor.cc:937] successful NUMA node read from SysFS had negative value (-1), but there must be at least one NUMA node, so returning NUMA node zero\n",
      "2021-10-30 16:11:55.405083: I tensorflow/stream_executor/cuda/cuda_gpu_executor.cc:937] successful NUMA node read from SysFS had negative value (-1), but there must be at least one NUMA node, so returning NUMA node zero\n",
      "2021-10-30 16:11:55.411151: I tensorflow/stream_executor/cuda/cuda_gpu_executor.cc:937] successful NUMA node read from SysFS had negative value (-1), but there must be at least one NUMA node, so returning NUMA node zero\n",
      "2021-10-30 16:11:55.411719: I tensorflow/stream_executor/cuda/cuda_gpu_executor.cc:937] successful NUMA node read from SysFS had negative value (-1), but there must be at least one NUMA node, so returning NUMA node zero\n",
      "2021-10-30 16:11:55.412366: I tensorflow/stream_executor/cuda/cuda_gpu_executor.cc:937] successful NUMA node read from SysFS had negative value (-1), but there must be at least one NUMA node, so returning NUMA node zero\n",
      "2021-10-30 16:11:55.412897: I tensorflow/stream_executor/cuda/cuda_gpu_executor.cc:937] successful NUMA node read from SysFS had negative value (-1), but there must be at least one NUMA node, so returning NUMA node zero\n",
      "2021-10-30 16:11:55.414174: I tensorflow/core/platform/cpu_feature_guard.cc:142] This TensorFlow binary is optimized with oneAPI Deep Neural Network Library (oneDNN) to use the following CPU instructions in performance-critical operations:  AVX2 FMA\n",
      "To enable them in other operations, rebuild TensorFlow with the appropriate compiler flags.\n",
      "2021-10-30 16:11:55.527484: I tensorflow/stream_executor/cuda/cuda_gpu_executor.cc:937] successful NUMA node read from SysFS had negative value (-1), but there must be at least one NUMA node, so returning NUMA node zero\n",
      "2021-10-30 16:11:55.528025: I tensorflow/stream_executor/cuda/cuda_gpu_executor.cc:937] successful NUMA node read from SysFS had negative value (-1), but there must be at least one NUMA node, so returning NUMA node zero\n",
      "2021-10-30 16:11:55.528442: I tensorflow/stream_executor/cuda/cuda_gpu_executor.cc:937] successful NUMA node read from"
     ]
    },
    {
     "data": {
      "text/plain": [
       "(<tf.Tensor: shape=(6,), dtype=float32, numpy=\n",
       " array([-0.56280106,  0.77276677, -1.6711123 ,  0.01961729, -0.25016376,\n",
       "         1.336652  ], dtype=float32)>,\n",
       " <tf.Tensor: shape=(), dtype=float32, numpy=5.8675985>)"
      ]
     },
     "execution_count": 4,
     "metadata": {},
     "output_type": "execute_result"
    },
    {
     "name": "stderr",
     "output_type": "stream",
     "text": [
      " SysFS had negative value (-1), but there must be at least one NUMA node, so returning NUMA node zero\n",
      "2021-10-30 16:11:55.529863: I tensorflow/stream_executor/cuda/cuda_gpu_executor.cc:937] successful NUMA node read from SysFS had negative value (-1), but there must be at least one NUMA node, so returning NUMA node zero\n",
      "2021-10-30 16:11:55.530269: I tensorflow/stream_executor/cuda/cuda_gpu_executor.cc:937] successful NUMA node read from SysFS had negative value (-1), but there must be at least one NUMA node, so returning NUMA node zero\n",
      "2021-10-30 16:11:55.530775: I tensorflow/stream_executor/cuda/cuda_gpu_executor.cc:937] successful NUMA node read from SysFS had negative value (-1), but there must be at least one NUMA node, so returning NUMA node zero\n",
      "2021-10-30 16:11:56.058640: I tensorflow/stream_executor/cuda/cuda_gpu_executor.cc:937] successful NUMA node read from SysFS had negative value (-1), but there must be at least one NUMA node, so returning NUMA node zero\n",
      "2021-10-30 16:11:56.059204: I tensorflow/stream_executor/cuda/cuda_gpu_executor.cc:937] successful NUMA node read from SysFS had negative value (-1), but there must be at least one NUMA node, so returning NUMA node zero\n",
      "2021-10-30 16:11:56.059617: I tensorflow/stream_executor/cuda/cuda_gpu_executor.cc:937] successful NUMA node read from SysFS had negative value (-1), but there must be at least one NUMA node, so returning NUMA node zero\n",
      "2021-10-30 16:11:56.060120: I tensorflow/stream_executor/cuda/cuda_gpu_executor.cc:937] successful NUMA node read from SysFS had negative value (-1), but there must be at least one NUMA node, so returning NUMA node zero\n",
      "2021-10-30 16:11:56.060539: I tensorflow/stream_executor/cuda/cuda_gpu_executor.cc:937] successful NUMA node read from SysFS had negative value (-1), but there must be at least one NUMA node, so returning NUMA node zero\n",
      "2021-10-30 16:11:56.061033: I tensorflow/core/common_runtime/gpu/gpu_device.cc:1510] Created device /job:localhost/replica:0/task:0/device:GPU:0 with 8889 MB memory:  -> device: 0, name: NVIDIA GeForce RTX 3060, pci bus id: 0000:2d:00.0, compute capability: 8.6\n",
      "2021-10-30 16:11:56.061268: I tensorflow/stream_executor/cuda/cuda_gpu_executor.cc:937] successful NUMA node read from SysFS had negative value (-1), but there must be at least one NUMA node, so returning NUMA node zero\n",
      "2021-10-30 16:11:56.061671: I tensorflow/core/common_runtime/gpu/gpu_device.cc:1510] Created device /job:localhost/replica:0/task:0/device:GPU:1 with 5202 MB memory:  -> device: 1, name: NVIDIA GeForce GTX 1060 6GB, pci bus id: 0000:24:00.0, compute capability: 6.1\n"
     ]
    }
   ],
   "source": [
    "# sample an (input, output) pair from the generator\n",
    "next(data_generator())"
   ]
  },
  {
   "cell_type": "code",
   "execution_count": 31,
   "id": "b5c0d4c6",
   "metadata": {},
   "outputs": [],
   "source": [
    "# define a model in tensorflow\n",
    "\n",
    "class tf_model(tf.keras.Model):\n",
    "    def __init__(self):\n",
    "        super(tf_model, self).__init__()\n",
    "        \n",
    "        # define model variable (offset)\n",
    "        \n",
    "        initializer = tf.keras.initializers.RandomNormal(mean=1)\n",
    "        variable_shape = [1]\n",
    "        \n",
    "        self.model_variable = tf.Variable(initializer(variable_shape),\n",
    "                                          dtype=tf.float32)\n",
    "          \n",
    "        # define model loss metric to keep track of the loss\n",
    "        \n",
    "        self.loss_metric = tf.keras.metrics.Mean()\n",
    "        \n",
    "    @tf.function\n",
    "    def __call__(self, x):\n",
    "        \n",
    "        # function to fit\n",
    "        output = tf.reduce_sum(x ** 2  , axis = 1) + self.model_variable\n",
    "        \n",
    "        return output\n"
   ]
  },
  {
   "cell_type": "code",
   "execution_count": 32,
   "id": "61ae48b1",
   "metadata": {},
   "outputs": [
    {
     "name": "stdout",
     "output_type": "stream",
     "text": [
      "The initial parameter value is: 0.9986789226531982 \n",
      "\n"
     ]
    }
   ],
   "source": [
    "# set training hyperparameters\n",
    "\n",
    "batch_size = 128\n",
    "lr = 0.0005\n",
    "n_epochs = 100\n",
    "examples_per_epoch = 50\n",
    "\n",
    "# instantiate model from the above defined model class\n",
    "model = tf_model()\n",
    "print(f\"The initial parameter value is: {model.trainable_variables[0].numpy()[0]} \\n\")\n",
    "\n",
    "# instantiate optimizer (stochastic gradient descent)\n",
    "optimizer = tf.keras.optimizers.SGD(learning_rate=lr)\n",
    "\n",
    "# initialize list of mean loss per epoch for later plotting\n",
    "epoch_losses = []"
   ]
  },
  {
   "cell_type": "code",
   "execution_count": 34,
   "id": "9ede6f1b",
   "metadata": {},
   "outputs": [],
   "source": [
    "# create a tensorflow Dataset object from the generator\n",
    "\n",
    "dataset = tf.data.Dataset.from_generator(\n",
    "     data_generator,\n",
    "     output_signature=(\n",
    "         tf.TensorSpec(shape=(6,), dtype=tf.float32),\n",
    "         tf.TensorSpec(shape=(), dtype=tf.float32)))\n",
    "\n",
    "\n",
    "# get batches of this dataset object\n",
    "\n",
    "dataset = dataset.batch(batch_size).prefetch(tf.data.AUTOTUNE)\n"
   ]
  },
  {
   "cell_type": "code",
   "execution_count": 35,
   "id": "91d36190",
   "metadata": {
    "scrolled": true
   },
   "outputs": [
    {
     "name": "stdout",
     "output_type": "stream",
     "text": [
      "The loss after epoch 0 is 0.4672258496284485 \n",
      "\n",
      "The loss after epoch 10 is 0.17349128425121307 \n",
      "\n",
      "The loss after epoch 20 is 0.06568653881549835 \n",
      "\n",
      "The loss after epoch 30 is 0.025664323940873146 \n",
      "\n",
      "The loss after epoch 40 is 0.010952133685350418 \n",
      "\n",
      "The loss after epoch 50 is 0.005750373005867004 \n",
      "\n",
      "The loss after epoch 60 is 0.0037070270627737045 \n",
      "\n",
      "The loss after epoch 70 is 0.00291154021397233 \n",
      "\n",
      "The loss after epoch 80 is 0.0026410995051264763 \n",
      "\n",
      "The loss after epoch 90 is 0.0025931044947355986 \n",
      "\n",
      "The final parameter estimate is: 0.30463331937789917\n"
     ]
    }
   ],
   "source": [
    "for epoch in range(n_epochs):\n",
    "\n",
    "    # iterate over 100 randomly generated training examples\n",
    "    for x_batch, target_batch in dataset.take(examples_per_epoch):\n",
    "\n",
    "        # calculate model output and loss within the gradient tape\n",
    "        with tf.GradientTape() as tape:\n",
    "            prediction_batch = model(x_batch)\n",
    "            \n",
    "            loss = tf.keras.losses.MSE(target_batch, prediction_batch)\n",
    "\n",
    "        # obtain gradients tracked by the gradient tape with respect to the model parameters\n",
    "        gradients = tape.gradient(loss, model.trainable_variables)\n",
    "\n",
    "        # apply the gradients to the model parameters using the optimizer\n",
    "        optimizer.apply_gradients(zip(gradients, model.trainable_variables))\n",
    "\n",
    "        # update loss metric for later inspection\n",
    "\n",
    "        model.loss_metric.update_state(loss)\n",
    "    if not (epoch % 10):\n",
    "        print(f\"The loss after epoch {epoch} is {model.loss_metric.result().numpy()} \\n\")\n",
    "    \n",
    "    epoch_losses.append(model.loss_metric.result().numpy())\n",
    "    \n",
    "    model.loss_metric.reset_states()\n",
    "    \n",
    "print(f\"The final parameter estimate is: {model.trainable_variables[0].numpy()[0]}\")"
   ]
  },
  {
   "cell_type": "code",
   "execution_count": 36,
   "id": "255a7527",
   "metadata": {},
   "outputs": [
    {
     "data": {
      "image/png": "[encoded data removed]",
      "text/plain": [
       "<Figure size 842.4x595.44 with 1 Axes>"
      ]
     },
     "metadata": {},
     "output_type": "display_data"
    }
   ],
   "source": [
    "# plot the losses during each epoch\n",
    "loss_plot = sns.lineplot(x=np.arange(n_epochs), \n",
    "                         y=epoch_losses).set_title(\"Mean squared error loss per epoch\")"
   ]
  },
  {
   "cell_type": "code",
   "execution_count": 37,
   "id": "a6de9edb",
   "metadata": {},
   "outputs": [
    {
     "name": "stdout",
     "output_type": "stream",
     "text": [
      "WARNING:tensorflow:Skipping full serialization of Keras layer <__main__.tf_model object at 0x7fd9b47bb3a0>, because it is not built.\n"
     ]
    },
    {
     "ename": "ValueError",
     "evalue": "Model <__main__.tf_model object at 0x7fd9b47bb3a0> cannot be saved because the input shapes have not been set. Usually, input shapes are automatically determined from calling `.fit()` or `.predict()`. To manually set the shapes, call `model.build(input_shape)`.",
     "output_type": "error",
     "traceback": [
      "\u001b[0;31m---------------------------------------------------------------------------\u001b[0m",
      "\u001b[0;31mValueError\u001b[0m                                Traceback (most recent call last)",
      "\u001b[0;32m/tmp/ipykernel_34880/370465181.py\u001b[0m in \u001b[0;36m<module>\u001b[0;34m\u001b[0m\n\u001b[1;32m      1\u001b[0m \u001b[0;31m# Saving the trained model\u001b[0m\u001b[0;34m\u001b[0m\u001b[0;34m\u001b[0m\u001b[0;34m\u001b[0m\u001b[0m\n\u001b[1;32m      2\u001b[0m \u001b[0;34m\u001b[0m\u001b[0m\n\u001b[0;32m----> 3\u001b[0;31m \u001b[0mmodel\u001b[0m\u001b[0;34m.\u001b[0m\u001b[0msave\u001b[0m\u001b[0;34m(\u001b[0m\u001b[0;34m\"model_filename\"\u001b[0m\u001b[0;34m)\u001b[0m\u001b[0;34m\u001b[0m\u001b[0;34m\u001b[0m\u001b[0m\n\u001b[0m",
      "\u001b[0;32m~/anaconda3/envs/uni/lib/python3.8/site-packages/keras/engine/training.py\u001b[0m in \u001b[0;36msave\u001b[0;34m(self, filepath, overwrite, include_optimizer, save_format, signatures, options, save_traces)\u001b[0m\n\u001b[1;32m   2143\u001b[0m     \"\"\"\n\u001b[1;32m   2144\u001b[0m     \u001b[0;31m# pylint: enable=line-too-long\u001b[0m\u001b[0;34m\u001b[0m\u001b[0;34m\u001b[0m\u001b[0;34m\u001b[0m\u001b[0m\n\u001b[0;32m-> 2145\u001b[0;31m     save.save_model(self, filepath, overwrite, include_optimizer, save_format,\n\u001b[0m\u001b[1;32m   2146\u001b[0m                     signatures, options, save_traces)\n\u001b[1;32m   2147\u001b[0m \u001b[0;34m\u001b[0m\u001b[0m\n",
      "\u001b[0;32m~/anaconda3/envs/uni/lib/python3.8/site-packages/keras/saving/save.py\u001b[0m in \u001b[0;36msave_model\u001b[0;34m(model, filepath, overwrite, include_optimizer, save_format, signatures, options, save_traces)\u001b[0m\n\u001b[1;32m    147\u001b[0m   \u001b[0;32melse\u001b[0m\u001b[0;34m:\u001b[0m\u001b[0;34m\u001b[0m\u001b[0;34m\u001b[0m\u001b[0m\n\u001b[1;32m    148\u001b[0m     \u001b[0;32mwith\u001b[0m \u001b[0mgeneric_utils\u001b[0m\u001b[0;34m.\u001b[0m\u001b[0mSharedObjectSavingScope\u001b[0m\u001b[0;34m(\u001b[0m\u001b[0;34m)\u001b[0m\u001b[0;34m:\u001b[0m\u001b[0;34m\u001b[0m\u001b[0;34m\u001b[0m\u001b[0m\n\u001b[0;32m--> 149\u001b[0;31m       saved_model_save.save(model, filepath, overwrite, include_optimizer,\n\u001b[0m\u001b[1;32m    150\u001b[0m                             signatures, options, save_traces)\n\u001b[1;32m    151\u001b[0m \u001b[0;34m\u001b[0m\u001b[0m\n",
      "\u001b[0;32m~/anaconda3/envs/uni/lib/python3.8/site-packages/keras/saving/saved_model/save.py\u001b[0m in \u001b[0;36msave\u001b[0;34m(model, filepath, overwrite, include_optimizer, signatures, options, save_traces)\u001b[0m\n\u001b[1;32m     73\u001b[0m   \u001b[0;32mif\u001b[0m \u001b[0msave_traces\u001b[0m\u001b[0;34m:\u001b[0m\u001b[0;34m\u001b[0m\u001b[0;34m\u001b[0m\u001b[0m\n\u001b[1;32m     74\u001b[0m     \u001b[0;32mif\u001b[0m \u001b[0msave_impl\u001b[0m\u001b[0;34m.\u001b[0m\u001b[0mshould_skip_serialization\u001b[0m\u001b[0;34m(\u001b[0m\u001b[0mmodel\u001b[0m\u001b[0;34m)\u001b[0m\u001b[0;34m:\u001b[0m\u001b[0;34m\u001b[0m\u001b[0;34m\u001b[0m\u001b[0m\n\u001b[0;32m---> 75\u001b[0;31m       \u001b[0msaving_utils\u001b[0m\u001b[0;34m.\u001b[0m\u001b[0mraise_model_input_error\u001b[0m\u001b[0;34m(\u001b[0m\u001b[0mmodel\u001b[0m\u001b[0;34m)\u001b[0m\u001b[0;34m\u001b[0m\u001b[0;34m\u001b[0m\u001b[0m\n\u001b[0m\u001b[1;32m     76\u001b[0m \u001b[0;34m\u001b[0m\u001b[0m\n\u001b[1;32m     77\u001b[0m   \u001b[0;32mif\u001b[0m \u001b[0;32mnot\u001b[0m \u001b[0minclude_optimizer\u001b[0m\u001b[0;34m:\u001b[0m\u001b[0;34m\u001b[0m\u001b[0;34m\u001b[0m\u001b[0m\n",
      "\u001b[0;32m~/anaconda3/envs/uni/lib/python3.8/site-packages/keras/saving/saving_utils.py\u001b[0m in \u001b[0;36mraise_model_input_error\u001b[0;34m(model)\u001b[0m\n\u001b[1;32m     82\u001b[0m \u001b[0;34m\u001b[0m\u001b[0m\n\u001b[1;32m     83\u001b[0m \u001b[0;32mdef\u001b[0m \u001b[0mraise_model_input_error\u001b[0m\u001b[0;34m(\u001b[0m\u001b[0mmodel\u001b[0m\u001b[0;34m)\u001b[0m\u001b[0;34m:\u001b[0m\u001b[0;34m\u001b[0m\u001b[0;34m\u001b[0m\u001b[0m\n\u001b[0;32m---> 84\u001b[0;31m   raise ValueError(\n\u001b[0m\u001b[1;32m     85\u001b[0m       \u001b[0;34m'Model {} cannot be saved because the input shapes have not been '\u001b[0m\u001b[0;34m\u001b[0m\u001b[0;34m\u001b[0m\u001b[0m\n\u001b[1;32m     86\u001b[0m       \u001b[0;34m'set. Usually, input shapes are automatically determined from calling'\u001b[0m\u001b[0;34m\u001b[0m\u001b[0;34m\u001b[0m\u001b[0m\n",
      "\u001b[0;31mValueError\u001b[0m: Model <__main__.tf_model object at 0x7fd9b47bb3a0> cannot be saved because the input shapes have not been set. Usually, input shapes are automatically determined from calling `.fit()` or `.predict()`. To manually set the shapes, call `model.build(input_shape)`."
     ]
    }
   ],
   "source": [
    "# Saving the trained model\n",
    "\n",
    "model.save(\"model_filename\")"
   ]
  },
  {
   "cell_type": "code",
   "execution_count": null,
   "id": "6fed91cc",
   "metadata": {},
   "outputs": [],
   "source": []
  }
 ],
 "metadata": {
  "kernelspec": {
   "display_name": "Python [conda env:uni] *",
   "language": "python",
   "name": "conda-env-uni-py"
  },
  "language_info": {
   "codemirror_mode": {
    "name": "ipython",
    "version": 3
   },
   "file_extension": ".py",
   "mimetype": "text/x-python",
   "name": "python",
   "nbconvert_exporter": "python",
   "pygments_lexer": "ipython3",
   "version": "3.8.11"
  }
 },
 "nbformat": 4,
 "nbformat_minor": 5
}
