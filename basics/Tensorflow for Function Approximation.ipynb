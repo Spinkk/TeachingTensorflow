{
 "cells": [
  {
   "cell_type": "code",
   "execution_count": 1,
   "id": "aab7726f",
   "metadata": {},
   "outputs": [],
   "source": [
    "import tensorflow as tf\n",
    "import numpy as np\n",
    "\n",
    "import seaborn as sns\n",
    "sns.set(rc={'figure.figsize':(11.7,8.27)}) # set figure size for plotting in seaborn"
   ]
  },
  {
   "cell_type": "code",
   "execution_count": 2,
   "id": "20f2fda5",
   "metadata": {},
   "outputs": [],
   "source": [
    "def data_generator():\n",
    "    while True:\n",
    "        \n",
    "        # draw 6 numbers from standard normal distribution\n",
    "        \n",
    "        datum = np.random.randn(6)       \n",
    "        \n",
    "        # define an offset\n",
    "        offset = 0.3\n",
    "        \n",
    "        noise = np.random.randn() * 0.05\n",
    "        \n",
    "        target = np.sum(datum ** 2 ) + offset + noise\n",
    "        \n",
    "        # get the input, output pair as tf tensors\n",
    "        yield (tf.constant(datum, dtype=tf.float32), tf.constant(target, dtype=tf.float32))"
   ]
  },
  {
   "cell_type": "code",
   "execution_count": 4,
   "id": "8f4346ea",
   "metadata": {
    "scrolled": true
   },
   "outputs": [
    {
     "data": {
      "text/plain": [
       "(<tf.Tensor: shape=(6,), dtype=float32, numpy=\n",
       " array([-1.2396818 , -0.01164282,  0.9739222 ,  0.5935517 ,  0.18968397,\n",
       "         0.06239698], dtype=float32)>,\n",
       " <tf.Tensor: shape=(), dtype=float32, numpy=3.146094>)"
      ]
     },
     "execution_count": 4,
     "metadata": {},
     "output_type": "execute_result"
    }
   ],
   "source": [
    "# sample an (input, output) pair from the generator\n",
    "next(data_generator())"
   ]
  },
  {
   "cell_type": "code",
   "execution_count": 5,
   "id": "b5c0d4c6",
   "metadata": {},
   "outputs": [],
   "source": [
    "# define a model in tensorflow\n",
    "\n",
    "class tf_model(tf.keras.Model):\n",
    "    def __init__(self):\n",
    "        super(tf_model, self).__init__()\n",
    "        \n",
    "        # define model variable (offset)\n",
    "        \n",
    "        initializer = tf.keras.initializers.RandomNormal(mean=1)\n",
    "        variable_shape = [1]\n",
    "        \n",
    "        self.model_variable = tf.Variable(initializer(variable_shape),\n",
    "                                          dtype=tf.float32)\n",
    "          \n",
    "        # define model loss metric to keep track of the loss\n",
    "        \n",
    "        self.loss_metric = tf.keras.metrics.Mean()\n",
    "        \n",
    "    @tf.function\n",
    "    def __call__(self, x):\n",
    "        \n",
    "        # function to fit\n",
    "        output = tf.reduce_sum(x ** 2  , axis = 1) + self.model_variable\n",
    "        \n",
    "        return output\n"
   ]
  },
  {
   "cell_type": "code",
   "execution_count": 6,
   "id": "61ae48b1",
   "metadata": {},
   "outputs": [
    {
     "name": "stdout",
     "output_type": "stream",
     "text": [
      "The initial parameter value is: 1.0448782444000244 \n",
      "\n"
     ]
    }
   ],
   "source": [
    "# set training hyperparameters\n",
    "\n",
    "batch_size = 128\n",
    "lr = 0.0005\n",
    "n_epochs = 100\n",
    "examples_per_epoch = 50\n",
    "\n",
    "# instantiate model from the above defined model class\n",
    "model = tf_model()\n",
    "print(f\"The initial parameter value is: {model.trainable_variables[0].numpy()[0]} \\n\")\n",
    "\n",
    "# instantiate optimizer (stochastic gradient descent)\n",
    "optimizer = tf.keras.optimizers.SGD(learning_rate=lr)\n",
    "\n",
    "# initialize list of mean loss per epoch for later plotting\n",
    "epoch_losses = []"
   ]
  },
  {
   "cell_type": "code",
   "execution_count": 7,
   "id": "9ede6f1b",
   "metadata": {},
   "outputs": [],
   "source": [
    "# create a tensorflow Dataset object from the generator\n",
    "\n",
    "dataset = tf.data.Dataset.from_generator(\n",
    "     data_generator,\n",
    "     output_signature=(\n",
    "         tf.TensorSpec(shape=(6,), dtype=tf.float32),\n",
    "         tf.TensorSpec(shape=(), dtype=tf.float32)))\n",
    "\n",
    "\n",
    "# get batches of this dataset object\n",
    "\n",
    "dataset = dataset.batch(batch_size).prefetch(tf.data.AUTOTUNE)\n"
   ]
  },
  {
   "cell_type": "code",
   "execution_count": 8,
   "id": "91d36190",
   "metadata": {
    "scrolled": true
   },
   "outputs": [
    {
     "name": "stderr",
     "output_type": "stream",
     "text": [
      "2021-10-31 14:16:39.057121: I tensorflow/compiler/mlir/mlir_graph_optimization_pass.cc:185] None of the MLIR Optimization Passes are enabled (registered 2)\n"
     ]
    },
    {
     "name": "stdout",
     "output_type": "stream",
     "text": [
      "The loss after epoch 0 is 0.5292680263519287 \n",
      "\n",
      "The loss after epoch 10 is 0.1977306306362152 \n",
      "\n",
      "The loss after epoch 20 is 0.07430343329906464 \n",
      "\n",
      "The loss after epoch 30 is 0.028753209859132767 \n",
      "\n",
      "The loss after epoch 40 is 0.012391347438097 \n",
      "\n",
      "The loss after epoch 50 is 0.006024924106895924 \n",
      "\n",
      "The loss after epoch 60 is 0.003746760543435812 \n",
      "\n",
      "The loss after epoch 70 is 0.0030010207556188107 \n",
      "\n",
      "The loss after epoch 80 is 0.0027103424072265625 \n",
      "\n",
      "The loss after epoch 90 is 0.0025075883604586124 \n",
      "\n",
      "The final parameter estimate is: 0.3051777482032776\n"
     ]
    }
   ],
   "source": [
    "for epoch in range(n_epochs):\n",
    "\n",
    "    # iterate over 100 randomly generated training examples\n",
    "    for x_batch, target_batch in dataset.take(examples_per_epoch):\n",
    "\n",
    "        # calculate model output and loss within the gradient tape\n",
    "        with tf.GradientTape() as tape:\n",
    "            prediction_batch = model(x_batch)\n",
    "            \n",
    "            loss = tf.keras.losses.MSE(target_batch, prediction_batch)\n",
    "\n",
    "        # obtain gradients tracked by the gradient tape with respect to the model parameters\n",
    "        gradients = tape.gradient(loss, model.trainable_variables)\n",
    "\n",
    "        # apply the gradients to the model parameters using the optimizer\n",
    "        optimizer.apply_gradients(zip(gradients, model.trainable_variables))\n",
    "\n",
    "        # update loss metric for later inspection\n",
    "\n",
    "        model.loss_metric.update_state(loss)\n",
    "    if not (epoch % 10):\n",
    "        print(f\"The loss after epoch {epoch} is {model.loss_metric.result().numpy()} \\n\")\n",
    "    \n",
    "    epoch_losses.append(model.loss_metric.result().numpy())\n",
    "    \n",
    "    model.loss_metric.reset_states()\n",
    "    \n",
    "print(f\"The final parameter estimate is: {model.trainable_variables[0].numpy()[0]}\")"
   ]
  },
  {
   "cell_type": "code",
   "execution_count": 9,
   "id": "255a7527",
   "metadata": {},
   "outputs": [
    {
     "data": {
      "image/png": "[encoded data removed]",
      "text/plain": [
       "<Figure size 842.4x595.44 with 1 Axes>"
      ]
     },
     "metadata": {},
     "output_type": "display_data"
    }
   ],
   "source": [
    "# plot the losses during each epoch\n",
    "loss_plot = sns.lineplot(x=np.arange(n_epochs), \n",
    "                         y=epoch_losses).set_title(\"Mean squared error loss per epoch\")"
   ]
  }
 ],
 "metadata": {
  "kernelspec": {
   "display_name": "Python [conda env:uni] *",
   "language": "python",
   "name": "conda-env-uni-py"
  },
  "language_info": {
   "codemirror_mode": {
    "name": "ipython",
    "version": 3
   },
   "file_extension": ".py",
   "mimetype": "text/x-python",
   "name": "python",
   "nbconvert_exporter": "python",
   "pygments_lexer": "ipython3",
   "version": "3.8.11"
  }
 },
 "nbformat": 4,
 "nbformat_minor": 5
}
